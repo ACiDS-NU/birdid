{
  "nbformat": 4,
  "nbformat_minor": 0,
  "metadata": {
    "colab": {
      "name": "Bird_ID_make_img.ipynb",
      "version": "0.3.2",
      "provenance": [],
      "collapsed_sections": [],
      "include_colab_link": true
    },
    "kernelspec": {
      "name": "python3",
      "display_name": "Python 3"
    },
    "accelerator": "GPU"
  },
  "cells": [
    {
      "cell_type": "markdown",
      "metadata": {
        "id": "view-in-github",
        "colab_type": "text"
      },
      "source": [
        "<a href=\"https://colab.research.google.com/github/darrenjhsu/birdid/blob/master/Bird_ID_make_img.ipynb\" target=\"_parent\"><img src=\"https://colab.research.google.com/assets/colab-badge.svg\" alt=\"Open In Colab\"/></a>"
      ]
    },
    {
      "metadata": {
        "id": "HnYrQR4sAcYM",
        "colab_type": "code",
        "colab": {}
      },
      "cell_type": "code",
      "source": [
        "from google.colab import drive\n",
        "drive.mount('/content/gdrive')"
      ],
      "execution_count": 0,
      "outputs": []
    },
    {
      "metadata": {
        "id": "Rl8m6VOrBJw1",
        "colab_type": "code",
        "colab": {}
      },
      "cell_type": "code",
      "source": [
        "import cv2\n",
        "import numpy as np\n",
        "import pandas as pd\n",
        "import matplotlib.pyplot as plt\n",
        "import matplotlib.patches as patches\n",
        "datapath = '/content/gdrive/My Drive/Bird_ID_project/nabirds'"
      ],
      "execution_count": 0,
      "outputs": []
    },
    {
      "metadata": {
        "id": "QSUEESUgBNSq",
        "colab_type": "code",
        "colab": {}
      },
      "cell_type": "code",
      "source": [
        "!ls /content/gdrive/My\\ Drive/Bird_ID_project/nabirds"
      ],
      "execution_count": 0,
      "outputs": []
    },
    {
      "metadata": {
        "id": "tGmet5FmBLPJ",
        "colab_type": "code",
        "colab": {}
      },
      "cell_type": "code",
      "source": [
        "if __name__ == '__main__':\n",
        "    # Read files\n",
        "    file_dir = '/content/gdrive/My Drive/Bird_ID_project/nabirds/'\n",
        "    images = pd.read_csv(file_dir + 'images.txt', sep=\" \", header=None, names = [\"image_id\",\"image_name\"])\n",
        "    print(images)\n",
        "    #imagesFrame = pd.DataFrame([images], columns = )\n",
        "    print(\"read image\")\n",
        "    train_test_split = pd.read_csv(file_dir + 'train_test_split.txt', sep=\" \", header=None, names = [\"image_id\",\"is_training\"])\n",
        "    #trainTestSplitFrame = pd.DataFrame([train_test_split],columns = )\n",
        "    print(\"read split\")\n",
        "    image_size = pd.read_csv(file_dir + 'sizes.txt', sep=\" \", header=None, names = [\"image_id\",\"image_width\",\"image_height\"])\n",
        "    #imageSizeFrame = pd.DataFrame([bounding_box],column )\n",
        "    print(\"read image size\")\n",
        "    classes = pd.read_csv(file_dir + 'classes2.txt', sep=\" \", header=None, names = [\"class_id\", \"class_name\"])\n",
        "    #classesFrame = pd.DataFrame([classes],columns)\n",
        "    print(\"read classes\")\n",
        "    image_class_label = pd.read_csv(file_dir + 'image_class_labels.txt', sep=\" \", header=None, names = [\"image_id\",\"class_id\"])\n",
        "    #imageClassLabelFrame = pd.DataFrame([image_class_label],columns)\n",
        "    print(\"read image class label\")\n",
        "    hierarchy = pd.read_csv(file_dir + 'hierarchy.txt', sep=\" \", header=None, names = [\"child_class_id\",\"parent_class_id\"])\n",
        "    #hierarchyFrame = pd.DataFrame([hierarchy],columns)\n",
        "    print(\"read hierarchy\")    \n",
        "    bounding_box = pd.read_csv(file_dir + 'bounding_boxes.txt', sep=\" \", header=None, names = [\"image_id\",\"bb_x\",\"bb_y\",\"bb_width\",\"bb_height\"])\n",
        "    #boundingBoxFrame = pd.DataFrame([bounding_box],column = [\"image_id\",\"bb_x\",\"bb_y\",\"bb_width\",\"bb_height\"])\n",
        "    print(\"read bounding boxes\")\n",
        "    \n",
        "    \n",
        "    #print(classes)\n",
        "    \n",
        "    # Concatenate to a full frame including\n",
        "    # ['image name','class id','x','y','x_end ( = x + x_dim)','y_end']\n",
        "    # \n",
        "    \n",
        "    img_bbox = pd.merge(images, bounding_box, on=\"image_id\")\n",
        "    img_class_bbox = pd.merge(img_bbox,image_class_label,on=\"image_id\")\n",
        "    full_frame = pd.merge(img_class_bbox,classes,on=\"class_id\")\n",
        "    \n",
        "    print(full_frame)\n",
        "    "
      ],
      "execution_count": 0,
      "outputs": []
    },
    {
      "metadata": {
        "id": "0t24If1NCB8V",
        "colab_type": "code",
        "colab": {}
      },
      "cell_type": "code",
      "source": [
        "if __name__ == '__main__':\n",
        "    WBNH = full_frame[full_frame['class_name'] == 'White-breasted_Nuthatch']\n",
        "    NCAM = full_frame[full_frame['class_name'] == 'Northern_Cardinal_(Adult_Male)']\n",
        "    \n",
        "    for index, row in WBNH.iterrows():\n",
        "        if (index == 29669):\n",
        "            print(row['image_name'])\n",
        "            img = file_dir + 'images/' + row['image_name']\n",
        "#            print(img)\n",
        "            fig,ax = plt.subplots(1)\n",
        "            image = plt.imread(img)\n",
        "            plt.imshow(image)\n",
        "            rect = patches.Rectangle((row['bb_x'],row['bb_y']),row['bb_width'],row['bb_height'],linewidth=1,edgecolor='r',facecolor='none')\n",
        "            ax.add_patch(rect)\n",
        "#            plt.imshow(img)\n",
        "            plt.show()"
      ],
      "execution_count": 0,
      "outputs": []
    },
    {
      "metadata": {
        "id": "VVnyCBZRCT5V",
        "colab_type": "code",
        "colab": {}
      },
      "cell_type": "code",
      "source": [
        "def make_npy_2(df, bird1, bird2, y_path, X_path):\n",
        "    print(y_path)\n",
        "    df = df[(df['class_name']==bird1) | (df['class_name']==bird2)]\n",
        "    #print(df)\n",
        "    var = df.iloc[0]['class_id']\n",
        "    df['class_id_2'] = df['class_id'].apply(lambda x: 1 if x == var else 0)\n",
        "    #print(df)\n",
        "    print('Bird class = 1: ', df.iloc[0]['image_name'])\n",
        "    print('Bird class = 0: ', df.iloc[-1]['image_name'])\n",
        "    target = df['class_id_2'].values\n",
        "    np.save(y_path, target)\n",
        "    print(target)\n",
        "    zipper = zip(df.image_name, df.bb_y, df.bb_height, df.bb_x, df.bb_width)\n",
        "    new_x = []\n",
        "    for i, z in enumerate(zipper):\n",
        "        print(datapath + '/images/' + z[0])\n",
        "        image = cv2.imread(datapath + '/images/' + z[0])\n",
        "        cropped = image[z[1]:(z[1]+z[2]), z[3]:(z[3]+z[4])]\n",
        "        new_x.append(paint_to_square(cropped, z)/255.0)\n",
        "        print(i)\n",
        "        if (i < 10):\n",
        "            print(image.shape)\n",
        "            print(cropped.shape)\n",
        "            cropped = paint_to_square(cropped, z)\n",
        "            fig,ax = plt.subplots(1)\n",
        "            #plt.imshow(cv2.cvtColor(cropped, cv2.COLOR_BGR2RGB))\n",
        "            plt.imshow(cropped)\n",
        "            plt.show()\n",
        "\n",
        "    X = np.array(new_x)\n",
        "    np.save(X_path, X)\n",
        "    return target, X\n",
        "    \n",
        "    \n",
        "def make_npy_many(df, bird_list, y_path, X_path, L_path):\n",
        "    # y_path = ground truth label\n",
        "    # X_path = data\n",
        "    print(y_path)\n",
        "#     df = df[(df['class_name']==bird1) | (df['class_name']==bird2)]\n",
        "    df = df[df['class_name'].isin(bird_list)]\n",
        "    df['class_id_2'] = pd.Series(np.zeros(len(df)), index=df.index)\n",
        "#     print(df)\n",
        "    var = df.class_id.unique()\n",
        "    print(var)\n",
        "    for i, z in enumerate(var):\n",
        "        df.loc[df['class_id']==z,'class_id_2'] = i\n",
        "#         print(df[df['class_id']==z])\n",
        "#     print(df)\n",
        "        print('Now processing bird class = {}: {} '.format(i,df.loc[df['class_id']==z,'class_name'].iloc[0]))\n",
        "#     print('Bird class = 0: ', df.iloc[-1]['image_name'])\n",
        "    target = df['class_id_2'].values.astype(int)\n",
        "    np.save(y_path, target)\n",
        "#     print(target)\n",
        "    zipper = zip(df.image_name, df.bb_y, df.bb_height, df.bb_x, df.bb_width)\n",
        "    new_x = []\n",
        "    for i, z in enumerate(zipper):\n",
        "        print(datapath + '/images/' + z[0])\n",
        "        image = cv2.imread(datapath + '/images/' + z[0])\n",
        "        cropped = image[z[1]:(z[1]+z[2]), z[3]:(z[3]+z[4])]\n",
        "        new_x.append(paint_to_square(cropped, z)/255.0)\n",
        "        print(i)\n",
        "        if (i < 10):\n",
        "            print(image.shape)\n",
        "            print(cropped.shape)\n",
        "            cropped = paint_to_square(cropped, z)\n",
        "            fig,ax = plt.subplots(1)\n",
        "            #plt.imshow(cv2.cvtColor(cropped, cv2.COLOR_BGR2RGB))\n",
        "            plt.imshow(cropped)\n",
        "            plt.show()\n",
        "\n",
        "    X = np.array(new_x)\n",
        "    np.save(X_path, X)\n",
        "    \n",
        "    np.save(L_path, bird_list)\n",
        "    \n",
        "    return target, X\n",
        "\n",
        "\n",
        "def paint_to_square(img, z):\n",
        "    desired_size = 224\n",
        "    old_size = img.shape[:2] # old_size is in (height, width) format\n",
        "\n",
        "    ratio = float(desired_size)/max(old_size)\n",
        "    new_size = tuple([int(x*ratio) for x in old_size])\n",
        "\n",
        "    # new_size should be in (width, height) format\n",
        "\n",
        "    im = cv2.resize(img, (new_size[1], new_size[0]))\n",
        "\n",
        "    delta_w = desired_size - new_size[1]\n",
        "    delta_h = desired_size - new_size[0]\n",
        "    top, bottom = delta_h//2, delta_h-(delta_h//2)\n",
        "    left, right = delta_w//2, delta_w-(delta_w//2)\n",
        "    \n",
        "    color = [0, 0, 0]\n",
        "    new_im = cv2.copyMakeBorder(im, top, bottom, left, right, cv2.BORDER_CONSTANT,\n",
        "        value=color)\n",
        "    new_im = cv2.cvtColor(new_im, cv2.COLOR_BGR2RGB)\n",
        "    return new_im"
      ],
      "execution_count": 0,
      "outputs": []
    },
    {
      "metadata": {
        "id": "z27X0TaY4LFM",
        "colab_type": "code",
        "colab": {}
      },
      "cell_type": "code",
      "source": [
        "y, X = make_npy_many(full_frame, ['Osprey','White-breasted_Nuthatch', 'Northern_Cardinal_(Adult_Male)'],datapath + '/data/y_3.npy', datapath + '/data/X_3.npy')\n",
        "#make_npy(df, 'Black_Throated_Sparrow', 'Harris_Sparrow', )"
      ],
      "execution_count": 0,
      "outputs": []
    },
    {
      "metadata": {
        "id": "ikphOB88nJ-u",
        "colab_type": "code",
        "colab": {}
      },
      "cell_type": "code",
      "source": [
        "full_frame.loc[full_frame['class_id']==814,'class_name'].iloc[0]"
      ],
      "execution_count": 0,
      "outputs": []
    },
    {
      "metadata": {
        "id": "9_DoEy687dr3",
        "colab_type": "code",
        "colab": {}
      },
      "cell_type": "code",
      "source": [
        "Bird_list=full_frame[full_frame['class_id'].isin((full_frame.class_id.value_counts()==120).index[:25].tolist())].class_name.unique()\n",
        "print(Bird_list)\n",
        "print(len(Bird_list))"
      ],
      "execution_count": 0,
      "outputs": []
    },
    {
      "metadata": {
        "id": "dPuoUD1juYtI",
        "colab_type": "code",
        "colab": {}
      },
      "cell_type": "code",
      "source": [
        "y, X = make_npy_many(full_frame, Bird_list,datapath + '/data/y_30.npy', datapath + '/data/X_30.npy', datapath + '/data/L_30.npy')\n",
        "#make_npy(df, 'Black_Throated_Sparrow', 'Harris_Sparrow', )"
      ],
      "execution_count": 0,
      "outputs": []
    },
    {
      "metadata": {
        "id": "vkvfWTtDCZx2",
        "colab_type": "text"
      },
      "cell_type": "markdown",
      "source": [
        "# 3/22 TODO: \n",
        "1.  Prepare the input file as square\n",
        "1.  Run CNN transfer learning (with MobilV2?) with WBNH and NCAM\n",
        "1.  Run fine tuning\n",
        "\n",
        "\n",
        "\n"
      ]
    },
    {
      "metadata": {
        "id": "Paw0yKjm4YOJ",
        "colab_type": "code",
        "colab": {}
      },
      "cell_type": "code",
      "source": [
        "!ls /content/gdrive/My\\ Drive/Bird_ID_project/nabirds/data"
      ],
      "execution_count": 0,
      "outputs": []
    },
    {
      "metadata": {
        "id": "35cA5Un7lAo9",
        "colab_type": "code",
        "colab": {}
      },
      "cell_type": "code",
      "source": [
        ""
      ],
      "execution_count": 0,
      "outputs": []
    }
  ]
}