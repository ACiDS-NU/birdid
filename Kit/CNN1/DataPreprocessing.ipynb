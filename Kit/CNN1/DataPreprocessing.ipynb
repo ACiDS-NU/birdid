{
 "cells": [
  {
   "cell_type": "code",
   "execution_count": 36,
   "metadata": {},
   "outputs": [],
   "source": [
    "import numpy as np\n",
    "import os\n",
    "import pandas as pd\n",
    "import matplotlib.pyplot as plt"
   ]
  },
  {
   "cell_type": "code",
   "execution_count": 2,
   "metadata": {},
   "outputs": [],
   "source": [
    "DATADIR = \"../nabirds/\"\n",
    "IMAGEDIR = DATADIR + \"images/\""
   ]
  },
  {
   "cell_type": "code",
   "execution_count": 3,
   "metadata": {},
   "outputs": [],
   "source": [
    "# create the list for bird classes\n",
    "idx2label = {}\n",
    "with open(DATADIR+\"classes.txt\") as f:\n",
    "    lines = f.readlines()\n",
    "    \n",
    "for l in lines:\n",
    "    idx, name = l.split(' ', 1)\n",
    "    idx2label[int(idx)] = name.split('\\n')[0]"
   ]
  },
  {
   "cell_type": "code",
   "execution_count": 4,
   "metadata": {},
   "outputs": [],
   "source": [
    "dirlist = os.listdir(IMAGEDIR)"
   ]
  },
  {
   "cell_type": "code",
   "execution_count": 5,
   "metadata": {
    "scrolled": false
   },
   "outputs": [],
   "source": [
    "df = pd.DataFrame({'id':['1'], # ID\n",
    "                   'label': ['label'], # bird class\n",
    "                   'nimage' :[1], # number of images per bird category\n",
    "                   'path' : ['path'] # relative path to the directory\n",
    "                  })\n",
    "\n",
    "for i, d in enumerate(dirlist):\n",
    "    path = os.path.join(IMAGEDIR, d)\n",
    "    nimage = len(os.listdir(path))\n",
    "    #print(\"{:30s} : {:10d} \".format(path, num))\n",
    "    df.loc[i] = [d, idx2label[int(d)], nimage, path]"
   ]
  },
  {
   "cell_type": "code",
   "execution_count": 6,
   "metadata": {},
   "outputs": [
    {
     "data": {
      "text/html": [
       "<div>\n",
       "<style scoped>\n",
       "    .dataframe tbody tr th:only-of-type {\n",
       "        vertical-align: middle;\n",
       "    }\n",
       "\n",
       "    .dataframe tbody tr th {\n",
       "        vertical-align: top;\n",
       "    }\n",
       "\n",
       "    .dataframe thead th {\n",
       "        text-align: right;\n",
       "    }\n",
       "</style>\n",
       "<table border=\"1\" class=\"dataframe\">\n",
       "  <thead>\n",
       "    <tr style=\"text-align: right;\">\n",
       "      <th></th>\n",
       "      <th>id</th>\n",
       "      <th>label</th>\n",
       "      <th>nimage</th>\n",
       "      <th>path</th>\n",
       "    </tr>\n",
       "  </thead>\n",
       "  <tbody>\n",
       "    <tr>\n",
       "      <th>0</th>\n",
       "      <td>0337</td>\n",
       "      <td>Red-breasted Merganser (Breeding male)</td>\n",
       "      <td>77</td>\n",
       "      <td>../nabirds/images/0337</td>\n",
       "    </tr>\n",
       "    <tr>\n",
       "      <th>1</th>\n",
       "      <td>0680</td>\n",
       "      <td>Red-headed Woodpecker (Immature)</td>\n",
       "      <td>72</td>\n",
       "      <td>../nabirds/images/0680</td>\n",
       "    </tr>\n",
       "    <tr>\n",
       "      <th>2</th>\n",
       "      <td>0633</td>\n",
       "      <td>Barrow's Goldeneye (Female/Eclipse male)</td>\n",
       "      <td>32</td>\n",
       "      <td>../nabirds/images/0633</td>\n",
       "    </tr>\n",
       "    <tr>\n",
       "      <th>3</th>\n",
       "      <td>0518</td>\n",
       "      <td>Surfbird</td>\n",
       "      <td>63</td>\n",
       "      <td>../nabirds/images/0518</td>\n",
       "    </tr>\n",
       "    <tr>\n",
       "      <th>4</th>\n",
       "      <td>0812</td>\n",
       "      <td>Black-capped Chickadee</td>\n",
       "      <td>96</td>\n",
       "      <td>../nabirds/images/0812</td>\n",
       "    </tr>\n",
       "  </tbody>\n",
       "</table>\n",
       "</div>"
      ],
      "text/plain": [
       "     id                                     label  nimage  \\\n",
       "0  0337    Red-breasted Merganser (Breeding male)      77   \n",
       "1  0680          Red-headed Woodpecker (Immature)      72   \n",
       "2  0633  Barrow's Goldeneye (Female/Eclipse male)      32   \n",
       "3  0518                                  Surfbird      63   \n",
       "4  0812                    Black-capped Chickadee      96   \n",
       "\n",
       "                     path  \n",
       "0  ../nabirds/images/0337  \n",
       "1  ../nabirds/images/0680  \n",
       "2  ../nabirds/images/0633  \n",
       "3  ../nabirds/images/0518  \n",
       "4  ../nabirds/images/0812  "
      ]
     },
     "execution_count": 6,
     "metadata": {},
     "output_type": "execute_result"
    }
   ],
   "source": [
    "#df.set_index(\"id\", inplace=True)\n",
    "df.head()"
   ]
  },
  {
   "cell_type": "code",
   "execution_count": 7,
   "metadata": {},
   "outputs": [
    {
     "data": {
      "text/html": [
       "<div>\n",
       "<style scoped>\n",
       "    .dataframe tbody tr th:only-of-type {\n",
       "        vertical-align: middle;\n",
       "    }\n",
       "\n",
       "    .dataframe tbody tr th {\n",
       "        vertical-align: top;\n",
       "    }\n",
       "\n",
       "    .dataframe thead th {\n",
       "        text-align: right;\n",
       "    }\n",
       "</style>\n",
       "<table border=\"1\" class=\"dataframe\">\n",
       "  <thead>\n",
       "    <tr style=\"text-align: right;\">\n",
       "      <th></th>\n",
       "      <th>id</th>\n",
       "      <th>label</th>\n",
       "      <th>nimage</th>\n",
       "      <th>path</th>\n",
       "    </tr>\n",
       "  </thead>\n",
       "  <tbody>\n",
       "    <tr>\n",
       "      <th>385</th>\n",
       "      <td>0975</td>\n",
       "      <td>Dark-eyed Junco (White-winged)</td>\n",
       "      <td>13</td>\n",
       "      <td>../nabirds/images/0975</td>\n",
       "    </tr>\n",
       "    <tr>\n",
       "      <th>218</th>\n",
       "      <td>0664</td>\n",
       "      <td>Purple Gallinule (Immature)</td>\n",
       "      <td>21</td>\n",
       "      <td>../nabirds/images/0664</td>\n",
       "    </tr>\n",
       "    <tr>\n",
       "      <th>228</th>\n",
       "      <td>0341</td>\n",
       "      <td>Red-throated Loon (Breeding)</td>\n",
       "      <td>23</td>\n",
       "      <td>../nabirds/images/0341</td>\n",
       "    </tr>\n",
       "    <tr>\n",
       "      <th>147</th>\n",
       "      <td>0755</td>\n",
       "      <td>Snow Bunting (Breeding adult)</td>\n",
       "      <td>24</td>\n",
       "      <td>../nabirds/images/0755</td>\n",
       "    </tr>\n",
       "    <tr>\n",
       "      <th>151</th>\n",
       "      <td>1006</td>\n",
       "      <td>Fox Sparrow (Thick-billed/Slate-colored)</td>\n",
       "      <td>25</td>\n",
       "      <td>../nabirds/images/1006</td>\n",
       "    </tr>\n",
       "  </tbody>\n",
       "</table>\n",
       "</div>"
      ],
      "text/plain": [
       "       id                                     label  nimage  \\\n",
       "385  0975            Dark-eyed Junco (White-winged)      13   \n",
       "218  0664               Purple Gallinule (Immature)      21   \n",
       "228  0341              Red-throated Loon (Breeding)      23   \n",
       "147  0755             Snow Bunting (Breeding adult)      24   \n",
       "151  1006  Fox Sparrow (Thick-billed/Slate-colored)      25   \n",
       "\n",
       "                       path  \n",
       "385  ../nabirds/images/0975  \n",
       "218  ../nabirds/images/0664  \n",
       "228  ../nabirds/images/0341  \n",
       "147  ../nabirds/images/0755  \n",
       "151  ../nabirds/images/1006  "
      ]
     },
     "execution_count": 7,
     "metadata": {},
     "output_type": "execute_result"
    }
   ],
   "source": [
    "# sort it according to the number of images\n",
    "ind = df['nimage'].argsort()\n",
    "df.loc[ind][:5]"
   ]
  },
  {
   "cell_type": "code",
   "execution_count": 8,
   "metadata": {},
   "outputs": [
    {
     "data": {
      "text/html": [
       "<div>\n",
       "<style scoped>\n",
       "    .dataframe tbody tr th:only-of-type {\n",
       "        vertical-align: middle;\n",
       "    }\n",
       "\n",
       "    .dataframe tbody tr th {\n",
       "        vertical-align: top;\n",
       "    }\n",
       "\n",
       "    .dataframe thead th {\n",
       "        text-align: right;\n",
       "    }\n",
       "</style>\n",
       "<table border=\"1\" class=\"dataframe\">\n",
       "  <thead>\n",
       "    <tr style=\"text-align: right;\">\n",
       "      <th></th>\n",
       "      <th>id</th>\n",
       "      <th>label</th>\n",
       "      <th>nimage</th>\n",
       "      <th>path</th>\n",
       "    </tr>\n",
       "  </thead>\n",
       "  <tbody>\n",
       "    <tr>\n",
       "      <th>373</th>\n",
       "      <td>0753</td>\n",
       "      <td>American Robin (Adult)</td>\n",
       "      <td>119</td>\n",
       "      <td>../nabirds/images/0753</td>\n",
       "    </tr>\n",
       "  </tbody>\n",
       "</table>\n",
       "</div>"
      ],
      "text/plain": [
       "       id                   label  nimage                    path\n",
       "373  0753  American Robin (Adult)     119  ../nabirds/images/0753"
      ]
     },
     "execution_count": 8,
     "metadata": {},
     "output_type": "execute_result"
    }
   ],
   "source": [
    "df.loc[df['id']=='0753']"
   ]
  },
  {
   "cell_type": "code",
   "execution_count": 9,
   "metadata": {},
   "outputs": [
    {
     "data": {
      "text/html": [
       "<div>\n",
       "<style scoped>\n",
       "    .dataframe tbody tr th:only-of-type {\n",
       "        vertical-align: middle;\n",
       "    }\n",
       "\n",
       "    .dataframe tbody tr th {\n",
       "        vertical-align: top;\n",
       "    }\n",
       "\n",
       "    .dataframe thead th {\n",
       "        text-align: right;\n",
       "    }\n",
       "</style>\n",
       "<table border=\"1\" class=\"dataframe\">\n",
       "  <thead>\n",
       "    <tr style=\"text-align: right;\">\n",
       "      <th></th>\n",
       "      <th>id</th>\n",
       "      <th>label</th>\n",
       "      <th>nimage</th>\n",
       "      <th>path</th>\n",
       "    </tr>\n",
       "  </thead>\n",
       "  <tbody>\n",
       "    <tr>\n",
       "      <th>94</th>\n",
       "      <td>0852</td>\n",
       "      <td>Northern Mockingbird</td>\n",
       "      <td>120</td>\n",
       "      <td>../nabirds/images/0852</td>\n",
       "    </tr>\n",
       "    <tr>\n",
       "      <th>163</th>\n",
       "      <td>0772</td>\n",
       "      <td>Northern Cardinal (Adult Male)</td>\n",
       "      <td>120</td>\n",
       "      <td>../nabirds/images/0772</td>\n",
       "    </tr>\n",
       "    <tr>\n",
       "      <th>373</th>\n",
       "      <td>0753</td>\n",
       "      <td>American Robin (Adult)</td>\n",
       "      <td>119</td>\n",
       "      <td>../nabirds/images/0753</td>\n",
       "    </tr>\n",
       "    <tr>\n",
       "      <th>415</th>\n",
       "      <td>0822</td>\n",
       "      <td>Bushtit</td>\n",
       "      <td>120</td>\n",
       "      <td>../nabirds/images/0822</td>\n",
       "    </tr>\n",
       "  </tbody>\n",
       "</table>\n",
       "</div>"
      ],
      "text/plain": [
       "       id                           label  nimage                    path\n",
       "94   0852            Northern Mockingbird     120  ../nabirds/images/0852\n",
       "163  0772  Northern Cardinal (Adult Male)     120  ../nabirds/images/0772\n",
       "373  0753          American Robin (Adult)     119  ../nabirds/images/0753\n",
       "415  0822                         Bushtit     120  ../nabirds/images/0822"
      ]
     },
     "execution_count": 9,
     "metadata": {},
     "output_type": "execute_result"
    }
   ],
   "source": [
    "ids = [753, 772, 852, 822]\n",
    "df.loc[df['id'].isin(['{}'.format(i).zfill(4) for i in ids])]"
   ]
  },
  {
   "cell_type": "code",
   "execution_count": 10,
   "metadata": {},
   "outputs": [],
   "source": [
    "import os, shutil\n",
    "from pathlib import Path\n",
    "\n",
    "def createDir(dirpath):\n",
    "    if os.path.isdir(dirpath):\n",
    "        print(\"# Directory exists: {}\".format(dirpath))\n",
    "    else:\n",
    "        os.mkdir(dirpath)\n",
    "        print(\"# created {}\".format(dirpath))"
   ]
  },
  {
   "cell_type": "code",
   "execution_count": 11,
   "metadata": {},
   "outputs": [
    {
     "name": "stdout",
     "output_type": "stream",
     "text": [
      "# Directory exists: ./Data/\n",
      "# Creating directories\n",
      "train : ./Data/train\n",
      "# Directory exists: ./Data/train\n",
      "train_0753 : ./Data/train/0753\n",
      "# Directory exists: ./Data/train/0753\n",
      "train_0772 : ./Data/train/0772\n",
      "# Directory exists: ./Data/train/0772\n",
      "train_0852 : ./Data/train/0852\n",
      "# Directory exists: ./Data/train/0852\n",
      "train_0822 : ./Data/train/0822\n",
      "# Directory exists: ./Data/train/0822\n",
      "validation : ./Data/validation\n",
      "# Directory exists: ./Data/validation\n",
      "validation_0753 : ./Data/validation/0753\n",
      "# Directory exists: ./Data/validation/0753\n",
      "validation_0772 : ./Data/validation/0772\n",
      "# Directory exists: ./Data/validation/0772\n",
      "validation_0852 : ./Data/validation/0852\n",
      "# Directory exists: ./Data/validation/0852\n",
      "validation_0822 : ./Data/validation/0822\n",
      "# Directory exists: ./Data/validation/0822\n",
      "test : ./Data/test\n",
      "# Directory exists: ./Data/test\n",
      "test_0753 : ./Data/test/0753\n",
      "# Directory exists: ./Data/test/0753\n",
      "test_0772 : ./Data/test/0772\n",
      "# Directory exists: ./Data/test/0772\n",
      "test_0852 : ./Data/test/0852\n",
      "# Directory exists: ./Data/test/0852\n",
      "test_0822 : ./Data/test/0822\n",
      "# Directory exists: ./Data/test/0822\n"
     ]
    }
   ],
   "source": [
    "# create (cats, dogs) for (train, validation, test) dir\n",
    "categories = ['{}'.format(i).zfill(4) for i in ids]\n",
    "dirtypes = ['train', 'validation', 'test']\n",
    "\n",
    "# The directory where we will\n",
    "# store our smaller dataset\n",
    "base_dir = './Data/'\n",
    "createDir(base_dir)\n",
    "\n",
    "dirnames = {}\n",
    "for j, d in enumerate(dirtypes):\n",
    "    dirname = d\n",
    "    dirpath = os.path.join(base_dir, d)\n",
    "    dirnames[dirname] = dirpath\n",
    "    \n",
    "    for c in categories:\n",
    "        dirname = d+\"_\"+c\n",
    "        subdirpath = os.path.join(dirpath, c)\n",
    "        dirnames[dirname] = subdirpath\n",
    "\n",
    "print(\"# Creating directories\")\n",
    "for k, v in dirnames.items():\n",
    "    print(\"{} : {}\".format(k,v))\n",
    "    createDir(v)"
   ]
  },
  {
   "cell_type": "markdown",
   "metadata": {},
   "source": [
    "copy images from their original folder to the target folder\n",
    "For each category (folder):\n",
    "1.  obtain a list of images (filenames)\n",
    "2. shuttle the list\n",
    "3. pick the train/validate/test set according to the ratio\n",
    "4. copy the images to the target location"
   ]
  },
  {
   "cell_type": "code",
   "execution_count": 12,
   "metadata": {},
   "outputs": [],
   "source": [
    "def generateSplittedImageList(ID, ratios, showdir=True):\n",
    "    \"\"\"\n",
    "    Generate the splitted image lists according to the ratios\n",
    "    \"\"\"\n",
    "    # directory name for the ID\n",
    "    dirname = df['path'].loc[df['id']==ID].to_string().split(' ')[-1]\n",
    "    # list of images in the directory\n",
    "    imagelist = os.listdir(dirname)\n",
    "    # number of images\n",
    "    nimage = len(imagelist)\n",
    "   \n",
    "    # generate a list of random integer for the image index\n",
    "    idx = np.arange(nimage)\n",
    "    np.random.shuffle(idx)\n",
    "    # create the stop-index for making the cut (length = len(ratios) + 1)\n",
    "    stop_idx = np.zeros((len(ratios)+1), dtype=int)\n",
    "    stop_idx[1:] = np.int32(np.array(ratios) * nimage)\n",
    "    stop_idx[-1] = nimage - stop_idx[:-1].sum() # fix the last number\n",
    "    for i in range(1, len(stop_idx)):\n",
    "        stop_idx[i] += stop_idx[i-1]\n",
    "    print(dirname, nimage, stop_idx)\n",
    "    \n",
    "    idx_list = [idx[stop_idx[j]:stop_idx[j+1]] for j in range(len(ratios))  ]\n",
    "    \n",
    "    if showdir:\n",
    "        return [[imagelist[i] for i in idx_list[j]] for j in range(len(ratios))], dirname\n",
    "    else:\n",
    "        return [[imagelist[i] for i in idx_list[j]] for j in range(len(ratios))]"
   ]
  },
  {
   "cell_type": "code",
   "execution_count": 13,
   "metadata": {},
   "outputs": [
    {
     "name": "stdout",
     "output_type": "stream",
     "text": [
      "../nabirds/images/0753 119 [  0  95 106 119]\n"
     ]
    }
   ],
   "source": [
    "imageList, imageDir = generateSplittedImageList('0753', ratios=[0.8, 0.1, 0.1])"
   ]
  },
  {
   "cell_type": "code",
   "execution_count": 14,
   "metadata": {},
   "outputs": [
    {
     "name": "stdout",
     "output_type": "stream",
     "text": [
      "../nabirds/images/0753 119 [  0  95 106 119]\n",
      "train_0753 ./Data/train/0753\n",
      "# Images already copied before. Not copying now...\n",
      "validation_0753 ./Data/validation/0753\n",
      "# Images already copied before. Not copying now...\n",
      "test_0753 ./Data/test/0753\n",
      "# Images already copied before. Not copying now...\n",
      "../nabirds/images/0772 120 [  0  96 108 120]\n",
      "train_0772 ./Data/train/0772\n",
      "# Images already copied before. Not copying now...\n",
      "validation_0772 ./Data/validation/0772\n",
      "# Images already copied before. Not copying now...\n",
      "test_0772 ./Data/test/0772\n",
      "# Images already copied before. Not copying now...\n",
      "../nabirds/images/0852 120 [  0  96 108 120]\n",
      "train_0852 ./Data/train/0852\n",
      "# Images already copied before. Not copying now...\n",
      "validation_0852 ./Data/validation/0852\n",
      "# Images already copied before. Not copying now...\n",
      "test_0852 ./Data/test/0852\n",
      "# Images already copied before. Not copying now...\n",
      "../nabirds/images/0822 120 [  0  96 108 120]\n",
      "train_0822 ./Data/train/0822\n",
      "# Images already copied before. Not copying now...\n",
      "validation_0822 ./Data/validation/0822\n",
      "# Images already copied before. Not copying now...\n",
      "test_0822 ./Data/test/0822\n",
      "# Images already copied before. Not copying now...\n"
     ]
    }
   ],
   "source": [
    "dirtypes = ['train', 'validation', 'test']\n",
    "dirtypes_ratios = [0.8, 0.1, 0.1]\n",
    "\n",
    "for i in ids:\n",
    "    ID = '{}'.format(i).zfill(4)\n",
    "    imageList, imageDir = generateSplittedImageList(ID, dirtypes_ratios)\n",
    "    \n",
    "    \n",
    "    for j, dt in enumerate(dirtypes):\n",
    "        dirname = dt+\"_\"+ID\n",
    "        print(dirname, dirnames[dirname])\n",
    "        \n",
    "        if os.path.isfile(dirnames[dirname]+\"/COPYING_FINISHED\"):\n",
    "            print(\"# Images already copied before. Not copying now...\")\n",
    "        else:\n",
    "            for image in imageList[j]:\n",
    "                src = os.path.join(imageDir, image)\n",
    "                dst = os.path.join(dirnames[dirname], image)\n",
    "                shutil.copyfile(src, dst)\n",
    "            Path(dirnames[dirname]+\"/COPYING_FINISHED\").touch()\n",
    "        "
   ]
  },
  {
   "cell_type": "code",
   "execution_count": 26,
   "metadata": {},
   "outputs": [
    {
     "name": "stdout",
     "output_type": "stream",
     "text": [
      "Found 383 images belonging to 4 classes.\n",
      "Found 47 images belonging to 4 classes.\n",
      "Found 49 images belonging to 4 classes.\n"
     ]
    }
   ],
   "source": [
    "from tensorflow.keras.preprocessing.image import ImageDataGenerator\n",
    "\n",
    "# All images will be rescaled by 1./255\n",
    "train_datagen = ImageDataGenerator(rescale=1./255,\n",
    "                    rotation_range=40,\n",
    "                    width_shift_range=0.2,\n",
    "                    height_shift_range=0.2,\n",
    "                    shear_range=0.2,\n",
    "                    zoom_range=0.2,\n",
    "                    horizontal_flip=True,)\n",
    "validation_datagen = ImageDataGenerator(rescale=1.0/255)\n",
    "test_datagen = ImageDataGenerator(rescale=1./255)\n",
    "\n",
    "\n",
    "train_generator = train_datagen.flow_from_directory(\n",
    "        # This is the target directory\n",
    "        dirnames['train'],\n",
    "        # All images will be resized to 150x150\n",
    "        target_size=(150, 150),\n",
    "        batch_size=20,\n",
    "        # Since we use binary_crossentropy loss, we need binary labels\n",
    "        class_mode='categorical')\n",
    "\n",
    "validation_generator = validation_datagen.flow_from_directory(\n",
    "        dirnames['validation'],\n",
    "        target_size=(150, 150),\n",
    "        batch_size=20,\n",
    "        class_mode='categorical')\n",
    "\n",
    "test_generator = test_datagen.flow_from_directory(\n",
    "        dirnames['test'],\n",
    "        target_size=(150, 150),\n",
    "        batch_size=20,\n",
    "        class_mode='categorical')"
   ]
  },
  {
   "cell_type": "code",
   "execution_count": 27,
   "metadata": {},
   "outputs": [
    {
     "name": "stdout",
     "output_type": "stream",
     "text": [
      "data batch shape: (20, 150, 150, 3)\n",
      "labels batch shape: (20, 4)\n"
     ]
    }
   ],
   "source": [
    "for data_batch, labels_batch in train_generator:\n",
    "    print('data batch shape:', data_batch.shape)\n",
    "    print('labels batch shape:', labels_batch.shape)\n",
    "    break"
   ]
  },
  {
   "cell_type": "code",
   "execution_count": 31,
   "metadata": {},
   "outputs": [
    {
     "name": "stdout",
     "output_type": "stream",
     "text": [
      "Model: \"sequential_3\"\n",
      "_________________________________________________________________\n",
      "Layer (type)                 Output Shape              Param #   \n",
      "=================================================================\n",
      "conv2d_12 (Conv2D)           (None, 148, 148, 32)      896       \n",
      "_________________________________________________________________\n",
      "max_pooling2d_12 (MaxPooling (None, 74, 74, 32)        0         \n",
      "_________________________________________________________________\n",
      "conv2d_13 (Conv2D)           (None, 72, 72, 64)        18496     \n",
      "_________________________________________________________________\n",
      "max_pooling2d_13 (MaxPooling (None, 36, 36, 64)        0         \n",
      "_________________________________________________________________\n",
      "conv2d_14 (Conv2D)           (None, 34, 34, 128)       73856     \n",
      "_________________________________________________________________\n",
      "max_pooling2d_14 (MaxPooling (None, 17, 17, 128)       0         \n",
      "_________________________________________________________________\n",
      "conv2d_15 (Conv2D)           (None, 15, 15, 128)       147584    \n",
      "_________________________________________________________________\n",
      "max_pooling2d_15 (MaxPooling (None, 7, 7, 128)         0         \n",
      "_________________________________________________________________\n",
      "flatten_3 (Flatten)          (None, 6272)              0         \n",
      "_________________________________________________________________\n",
      "dropout (Dropout)            (None, 6272)              0         \n",
      "_________________________________________________________________\n",
      "dense_6 (Dense)              (None, 512)               3211776   \n",
      "_________________________________________________________________\n",
      "dense_7 (Dense)              (None, 4)                 2052      \n",
      "=================================================================\n",
      "Total params: 3,454,660\n",
      "Trainable params: 3,454,660\n",
      "Non-trainable params: 0\n",
      "_________________________________________________________________\n"
     ]
    }
   ],
   "source": [
    "from tensorflow.keras import layers\n",
    "from tensorflow.keras import models\n",
    "from tensorflow.keras import optimizers\n",
    "\n",
    "\n",
    "model = models.Sequential()\n",
    "model.add(layers.Conv2D(32, (3, 3), activation='relu',\n",
    "                        input_shape=(150, 150, 3)))\n",
    "model.add(layers.MaxPooling2D((2, 2)))\n",
    "model.add(layers.Conv2D(64, (3, 3), activation='relu'))\n",
    "model.add(layers.MaxPooling2D((2, 2)))\n",
    "model.add(layers.Conv2D(128, (3, 3), activation='relu'))\n",
    "model.add(layers.MaxPooling2D((2, 2)))\n",
    "model.add(layers.Conv2D(128, (3, 3), activation='relu'))\n",
    "model.add(layers.MaxPooling2D((2, 2)))\n",
    "model.add(layers.Flatten())\n",
    "model.add(layers.Dropout(0.5))\n",
    "model.add(layers.Dense(512, activation='relu'))\n",
    "model.add(layers.Dense(4, activation='softmax'))\n",
    "model.summary()"
   ]
  },
  {
   "cell_type": "code",
   "execution_count": 32,
   "metadata": {},
   "outputs": [],
   "source": [
    "model.compile(loss='categorical_crossentropy',\n",
    "              optimizer=optimizers.RMSprop(lr=1e-4),\n",
    "              metrics=['acc'])"
   ]
  },
  {
   "cell_type": "code",
   "execution_count": 33,
   "metadata": {},
   "outputs": [
    {
     "name": "stdout",
     "output_type": "stream",
     "text": [
      "Epoch 1/30\n",
      "100/100 [==============================] - 36s 359ms/step - loss: 1.3470 - acc: 0.3394 - val_loss: 1.1832 - val_acc: 0.3665\n",
      "Epoch 2/30\n",
      "100/100 [==============================] - 33s 329ms/step - loss: 1.1057 - acc: 0.5018 - val_loss: 0.9822 - val_acc: 0.5528\n",
      "Epoch 3/30\n",
      "100/100 [==============================] - 33s 331ms/step - loss: 0.9794 - acc: 0.5702 - val_loss: 0.9483 - val_acc: 0.6273\n",
      "Epoch 4/30\n",
      "100/100 [==============================] - 33s 329ms/step - loss: 0.8654 - acc: 0.5859 - val_loss: 1.0112 - val_acc: 0.4596\n",
      "Epoch 5/30\n",
      "100/100 [==============================] - 33s 328ms/step - loss: 0.8204 - acc: 0.6350 - val_loss: 0.9329 - val_acc: 0.5466\n",
      "Epoch 6/30\n",
      "100/100 [==============================] - 33s 329ms/step - loss: 0.7904 - acc: 0.6501 - val_loss: 0.9177 - val_acc: 0.5528\n",
      "Epoch 7/30\n",
      "100/100 [==============================] - 33s 331ms/step - loss: 0.7727 - acc: 0.6627 - val_loss: 0.9598 - val_acc: 0.6149\n",
      "Epoch 8/30\n",
      "100/100 [==============================] - 33s 329ms/step - loss: 0.7245 - acc: 0.6783 - val_loss: 0.8547 - val_acc: 0.5528\n",
      "Epoch 9/30\n",
      "100/100 [==============================] - 33s 328ms/step - loss: 0.7064 - acc: 0.6982 - val_loss: 1.0115 - val_acc: 0.6149\n",
      "Epoch 10/30\n",
      "100/100 [==============================] - 33s 328ms/step - loss: 0.6931 - acc: 0.7013 - val_loss: 1.0726 - val_acc: 0.5466\n",
      "Epoch 11/30\n",
      "100/100 [==============================] - 33s 328ms/step - loss: 0.6935 - acc: 0.7123 - val_loss: 0.8824 - val_acc: 0.5839\n",
      "Epoch 12/30\n",
      "100/100 [==============================] - 33s 331ms/step - loss: 0.6533 - acc: 0.7180 - val_loss: 1.1339 - val_acc: 0.5714\n",
      "Epoch 13/30\n",
      "100/100 [==============================] - 33s 329ms/step - loss: 0.6416 - acc: 0.7238 - val_loss: 0.7901 - val_acc: 0.6025\n",
      "Epoch 14/30\n",
      "100/100 [==============================] - 33s 328ms/step - loss: 0.6327 - acc: 0.7258 - val_loss: 0.8527 - val_acc: 0.6087\n",
      "Epoch 15/30\n",
      "100/100 [==============================] - 33s 329ms/step - loss: 0.6129 - acc: 0.7379 - val_loss: 1.0221 - val_acc: 0.5528\n",
      "Epoch 16/30\n",
      "100/100 [==============================] - 33s 330ms/step - loss: 0.5830 - acc: 0.7452 - val_loss: 0.9466 - val_acc: 0.6211\n",
      "Epoch 17/30\n",
      "100/100 [==============================] - 33s 329ms/step - loss: 0.5839 - acc: 0.7499 - val_loss: 0.8619 - val_acc: 0.6087\n",
      "Epoch 18/30\n",
      "100/100 [==============================] - 33s 328ms/step - loss: 0.5639 - acc: 0.7608 - val_loss: 1.0426 - val_acc: 0.5901\n",
      "Epoch 19/30\n",
      "100/100 [==============================] - 33s 328ms/step - loss: 0.5448 - acc: 0.7687 - val_loss: 0.9222 - val_acc: 0.6025\n",
      "Epoch 20/30\n",
      "100/100 [==============================] - 33s 330ms/step - loss: 0.5528 - acc: 0.7697 - val_loss: 1.0569 - val_acc: 0.6708\n",
      "Epoch 21/30\n",
      "100/100 [==============================] - 33s 330ms/step - loss: 0.5419 - acc: 0.7775 - val_loss: 0.9303 - val_acc: 0.6522\n",
      "Epoch 22/30\n",
      "100/100 [==============================] - 33s 330ms/step - loss: 0.5417 - acc: 0.7655 - val_loss: 1.3830 - val_acc: 0.5590\n",
      "Epoch 23/30\n",
      "100/100 [==============================] - 33s 329ms/step - loss: 0.5117 - acc: 0.7849 - val_loss: 0.9993 - val_acc: 0.5652\n",
      "Epoch 24/30\n",
      "100/100 [==============================] - 33s 327ms/step - loss: 0.5115 - acc: 0.7843 - val_loss: 1.1992 - val_acc: 0.5963\n",
      "Epoch 25/30\n",
      "100/100 [==============================] - 33s 328ms/step - loss: 0.5243 - acc: 0.7901 - val_loss: 0.8086 - val_acc: 0.5901\n",
      "Epoch 26/30\n",
      "100/100 [==============================] - 33s 329ms/step - loss: 0.4960 - acc: 0.7927 - val_loss: 1.1397 - val_acc: 0.5776\n",
      "Epoch 27/30\n",
      "100/100 [==============================] - 33s 328ms/step - loss: 0.4983 - acc: 0.7875 - val_loss: 0.9360 - val_acc: 0.6584\n",
      "Epoch 28/30\n",
      "100/100 [==============================] - 33s 328ms/step - loss: 0.4602 - acc: 0.7990 - val_loss: 1.6478 - val_acc: 0.5963\n",
      "Epoch 29/30\n",
      "100/100 [==============================] - 33s 331ms/step - loss: 0.4539 - acc: 0.7984 - val_loss: 0.8904 - val_acc: 0.6646\n",
      "Epoch 30/30\n",
      "100/100 [==============================] - 33s 328ms/step - loss: 0.4520 - acc: 0.8073 - val_loss: 0.8851 - val_acc: 0.6460\n"
     ]
    }
   ],
   "source": [
    "history = model.fit_generator(\n",
    "      train_generator,\n",
    "      steps_per_epoch=100,\n",
    "      epochs=30,\n",
    "      validation_data=validation_generator,\n",
    "      validation_steps=10)"
   ]
  },
  {
   "cell_type": "code",
   "execution_count": 20,
   "metadata": {},
   "outputs": [],
   "source": [
    "?validation_datagen.flow_from_directory"
   ]
  },
  {
   "cell_type": "code",
   "execution_count": 34,
   "metadata": {},
   "outputs": [
    {
     "data": {
      "text/plain": [
       "<tensorflow.python.keras.callbacks.History at 0x7f873c16d518>"
      ]
     },
     "execution_count": 34,
     "metadata": {},
     "output_type": "execute_result"
    }
   ],
   "source": [
    "history"
   ]
  },
  {
   "cell_type": "code",
   "execution_count": 37,
   "metadata": {},
   "outputs": [
    {
     "data": {
      "text/plain": [
       "<matplotlib.legend.Legend at 0x7f87cb1f7518>"
      ]
     },
     "execution_count": 37,
     "metadata": {},
     "output_type": "execute_result"
    },
    {
     "data": {
      "image/png": "[encoded data removed]",
      "text/plain": [
       "<Figure size 432x288 with 1 Axes>"
      ]
     },
     "metadata": {
      "needs_background": "light"
     },
     "output_type": "display_data"
    },
    {
     "data": {
      "image/png": "[encoded data removed]",
      "text/plain": [
       "<Figure size 432x288 with 1 Axes>"
      ]
     },
     "metadata": {
      "needs_background": "light"
     },
     "output_type": "display_data"
    }
   ],
   "source": [
    "acc = history.history['acc']\n",
    "val_acc = history.history['val_acc']\n",
    "loss = history.history['loss']\n",
    "val_loss = history.history['val_loss']\n",
    "\n",
    "epochs = range(len(acc))\n",
    "\n",
    "plt.figure()\n",
    "plt.plot(epochs, acc, 'bo', label='Training acc')\n",
    "plt.plot(epochs, val_acc, 'b', label='Validation acc')\n",
    "plt.title('Training and validation accuracy')\n",
    "plt.legend()\n",
    "\n",
    "plt.figure()\n",
    "\n",
    "plt.plot(epochs, loss, 'bo', label='Training loss')\n",
    "plt.plot(epochs, val_loss, 'b', label='Validation loss')\n",
    "plt.title('Training and validation loss')\n",
    "plt.legend()"
   ]
  },
  {
   "cell_type": "code",
   "execution_count": 38,
   "metadata": {},
   "outputs": [],
   "source": [
    "model.save_weights(\"bird4_weights.h5\")"
   ]
  },
  {
   "cell_type": "code",
   "execution_count": null,
   "metadata": {},
   "outputs": [],
   "source": []
  }
 ],
 "metadata": {
  "kernelspec": {
   "display_name": "TF-GPU 2.0a",
   "language": "python",
   "name": "tf2a-gpu"
  },
  "language_info": {
   "codemirror_mode": {
    "name": "ipython",
    "version": 3
   },
   "file_extension": ".py",
   "mimetype": "text/x-python",
   "name": "python",
   "nbconvert_exporter": "python",
   "pygments_lexer": "ipython3",
   "version": "3.6.7"
  }
 },
 "nbformat": 4,
 "nbformat_minor": 2
}
